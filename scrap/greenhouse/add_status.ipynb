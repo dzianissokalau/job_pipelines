{
 "cells": [
  {
   "cell_type": "code",
   "execution_count": 1,
   "id": "48819268-6aff-4ca4-8b79-5e7c5ec87d0b",
   "metadata": {},
   "outputs": [],
   "source": [
    "import requests\n",
    "from bs4 import BeautifulSoup\n",
    "import pandas as pd\n",
    "import time\n",
    "import datetime\n",
    "import os\n",
    "\n",
    "import firebase_admin\n",
    "from firebase_admin import credentials\n",
    "from firebase_admin import firestore\n",
    "\n",
    "import greenhouse"
   ]
  },
  {
   "cell_type": "code",
   "execution_count": 3,
   "id": "d0f2e9f5-7c4f-4b77-9c53-621dc7eb6f4e",
   "metadata": {},
   "outputs": [],
   "source": [
    "#initializing firestore\n",
    "cert_path = '/Users/dzianis/github/' + 'findremote-firebase-adminsdk-p9cw7-633a39d4a9.json'\n",
    "cred = credentials.Certificate(cert_path)\n",
    "firebase_admin.initialize_app(cred)\n",
    "\n",
    "# connect to db\n",
    "db = firestore.client()\n",
    "\n",
    "\n",
    "\n",
    "\n",
    "# get data from FireStore\n",
    "listings_db = db.collection(u'listings').stream()\n",
    "\n",
    "listings = dict()\n",
    "for listing in listings_db:\n",
    "    listings[listing.id] = listing.to_dict()"
   ]
  },
  {
   "cell_type": "code",
   "execution_count": 6,
   "id": "e851e455-3978-41cc-b7f1-fbf07d27ca8c",
   "metadata": {},
   "outputs": [
    {
     "name": "stdout",
     "output_type": "stream",
     "text": [
      "lenght of new listings:  694\n",
      "lenght of listings:  741\n"
     ]
    }
   ],
   "source": [
    "companies = {\n",
    "    'github': 'GitHub', \n",
    "    'gitlab': 'GitLab', \n",
    "    'invision': 'InVision', \n",
    "    'blockchain': 'Blockchain', \n",
    "    'automatticcareers': 'Automattic', \n",
    "    'monzo': 'Monzo', \n",
    "    'mozilla': 'Mozilla', \n",
    "    'autoscout24': 'Autoscout24',\n",
    "    'zapiercareers': 'Zapier' \n",
    "}\n",
    "\n",
    "\n",
    "\n",
    "new_listings = []\n",
    "\n",
    "url_base = 'https://boards.greenhouse.io'\n",
    "for company in companies.keys():\n",
    "    company_url = url_base + '/' + company\n",
    "    response = requests.get(company_url)\n",
    "    time.sleep(5)\n",
    "    \n",
    "    response_html = BeautifulSoup(response.content, 'html.parser')\n",
    "    \n",
    "    #company name\n",
    "    company_name = companies[company]\n",
    "    \n",
    "    # openings\n",
    "    results = response_html.find_all('div', class_='opening')\n",
    "    for result in results:\n",
    "        job_id = greenhouse.get_job_id(result)\n",
    "        new_listings.append(job_id)\n",
    "        \n",
    "\n",
    "print('lenght of new listings: ', len(new_listings))\n",
    "print('lenght of listings: ', len(listings.keys()))"
   ]
  },
  {
   "cell_type": "code",
   "execution_count": 25,
   "id": "78701f81-b386-4e73-b4f0-325dd657b493",
   "metadata": {},
   "outputs": [],
   "source": [
    "# if past listings not in new listings set status \"archived\" \n",
    "for listing in listings.keys():\n",
    "    if listing not in new_listings:\n",
    "        job_data = db.collection(u'listings').document(listing).get().to_dict()\n",
    "        job_data['status'] = 'archived'\n",
    "        # write to Fire Store (Content)\n",
    "        doc_ref = db.collection(u'listings').document(job_data['job_id'])\n",
    "        doc_ref.set(job_data) "
   ]
  },
  {
   "cell_type": "code",
   "execution_count": 26,
   "id": "e9f2c5af-e967-4daf-9b32-10a546eeee62",
   "metadata": {},
   "outputs": [
    {
     "data": {
      "text/plain": [
       "{'job_id': '3378029',\n",
       " 'location_simp': 'Remote',\n",
       " 'status': 'archived',\n",
       " 'ds': False,\n",
       " 'em': False,\n",
       " 'tags_short': ['wordpress', 'git'],\n",
       " 'pm': False,\n",
       " 'job_description': '<div class=\"\" id=\"content\">\\n<p><a href=\"https://wpvip.com/\"><span style=\"font-weight: 400;\">WordPress VIP</span></a><span style=\"font-weight: 400;\"> and </span><a href=\"https://www.parse.ly/\"><span style=\"font-weight: 400;\">Parse.ly</span></a><span style=\"font-weight: 400;\"> are part of the </span><a href=\"https://automattic.com/\"><span style=\"font-weight: 400;\">Automattic</span></a><span style=\"font-weight: 400;\"> family of brands. Together, we bring the ease and agility of WordPress to the world’s largest companies. We get to work with customers like Facebook, Salesforce, and Disney and help them create beautiful digital experiences. We are scaling fast and this is an opportunity to join us at this exciting stage of company growth!</span><span style=\"font-weight: 400;\"><br/></span><span style=\"font-weight: 400;\"><br/></span><span style=\"font-weight: 400;\">We’re looking for a Product Specialist who has expertise in content marketing using analytics tools or experience with audience development to help create a data-informed content strategy. You will be responsible for understanding workflows and analytics tools of content creators to help the sales team make compelling arguments as to why Parse.ly is the best analytics tool for our customers. Reporting to the Head of Parse.ly Sales, you will provide technical leadership to our enterprise sales team and conduct platform demonstrations with prospects, where you\\'ll play a key part in building and maintaining the structure to support our sales programs. </span><span style=\"font-weight: 400;\"><br/></span></p>\\n<p><span style=\"font-weight: 400;\">This isn’t your typical work-from-home job — we are a fully-remote company with unlimited paid time off. To see a full list of benefits by country, check out our </span><a href=\"https://automattic.com/benefits/\"><span style=\"font-weight: 400;\">benefits page</span></a><span style=\"font-weight: 400;\">.</span><span style=\"font-weight: 400;\"><br/></span><strong><br/></strong><strong>As a Product Specialist at Parse.ly/WordPress VIP, you\\'ll be responsible for:</strong></p>\\n<ul>\\n<li style=\"font-weight: 400;\"><span style=\"font-weight: 400;\">Partnering proactively with Sales and Customer Success to qualify new business opportunities in terms of technical requirements, competitive landscape, and business drivers.</span></li>\\n<li style=\"font-weight: 400;\"><span style=\"font-weight: 400;\">Identifying and solving customer problems proactively and creatively through effective project management and consultation on technical setup.</span></li>\\n<li style=\"font-weight: 400;\"><span style=\"font-weight: 400;\">Building proof of concepts and leading the demo process; including building, running, and training the team based on our buyer personas, verticals, and business priorities.</span></li>\\n<li style=\"font-weight: 400;\"><span style=\"font-weight: 400;\">Contributing to the RFP/RFI process as the primary point person on technical responses that Account Executives need assistance with.</span></li>\\n<li style=\"font-weight: 400;\"><span style=\"font-weight: 400;\">Providing technical education to the Sales team to ensure a complete understanding of our platform and services.</span><strong><br/><br/></strong></li>\\n</ul>\\n<p><strong>You’re thrilled about this opportunity because you have:</strong></p>\\n<ul>\\n<li data-stringify-border=\"0\" data-stringify-indent=\"0\">5+ years experience using analytics to create compelling content and inform strategy as a publisher or content marketer.</li>\\n<li data-stringify-border=\"0\" data-stringify-indent=\"0\">Outstanding communication; you should be great at holding people’s attention whether presenting, talking on the phone, or writing a quick blog post.</li>\\n<li data-stringify-border=\"0\" data-stringify-indent=\"0\">An understanding of sales, content marketing, audience development, and analytics tools.</li>\\n<li data-stringify-border=\"0\" data-stringify-indent=\"0\">Experience with\\xa0<a class=\"c-link\" data-remove-tab-index=\"true\" data-sk=\"tooltip_parent\" data-stringify-link=\"http://Parse.ly\" href=\"http://parse.ly/\" target=\"_blank\">Parse.ly</a>\\xa0project implementations, development, community, and standard methodologies.</li>\\n</ul>\\n<div class=\"content-conclusion\"><div class=\"wp-block-group\">\\n<div class=\"wp-block-group__inner-container\">\\n<div class=\"wp-block-group\">\\n<div class=\"wp-block-group__inner-container\">\\n<h5>About Automattic</h5>\\n<p>We are the people behind <a href=\"http://wordpress.com/\">WordPress.com</a>, <a href=\"http://woocommerce.com/\">WooCommerce</a>, <a href=\"https://www.tumblr.com/\">Tumblr</a>, <a href=\"http://simplenote.com/\">Simplenote</a>, <a href=\"http://jetpack.com/\">Jetpack</a>,\\xa0<a href=\"http://longreads.com/\">Longreads</a>, <a href=\"https://dayoneapp.com/\" target=\"_blank\">Day One</a>, <a href=\"https://www.pocketcasts.com\" target=\"_blank\">PocketCasts</a>, and more. We believe in making the web a better place.</p>\\n<p>We’re a distributed company with more than 2000 Automatticians in 96 countries speaking 120+ different languages. We democratize publishing and commerce so anyone with a story can tell it, and anyone with a product can sell it, regardless of income, gender, politics, language, or country.</p>\\n<p>We believe in Open Source and the vast majority of our work is available under the\\xa0<a href=\"https://en.wikipedia.org/wiki/GNU_General_Public_License\">GPL</a>.</p>\\n</div>\\n</div>\\n<div class=\"wp-block-group\">\\n<div class=\"wp-block-group__inner-container\">\\n<h5>Diversity, Equity, and Inclusion at Automattic</h5>\\n<p>We’re improving diversity, equity, and inclusion in the tech industry. At Automattic, we want people to love their work and show respect and empathy to all. We welcome differences and strive to increase participation from traditionally underrepresented groups. Our DEI committee involves Automatticians across the company and drives grassroots change. For example, this group has helped facilitate private online spaces for affiliated Automatticians to gather and helps run a monthly DEI People Lab series for further learning. Diversity, Equity and Inclusion is a priority at Automattic, though our dedication influences far more than just Automatticians: We make our products freely available and translate our products into and offer customer support in numerous languages. We require unconscious bias training for our hiring teams and ensure our products are accessible across different bandwidths and devices. Learn more about our dedication to\\xa0<a href=\"https://href.li/?https://automattic.com/diversity-and-inclusion/\" target=\"_blank\">diversity, equity, and inclusion</a>\\xa0and our\\xa0<a href=\"https://automattic.com/automattician-resource-groups/\" target=\"_blank\">Employee Resource Groups</a>.</p>\\n</div>\\n</div>\\n</div>\\n</div></div>\\n</div>',\n",
       " 'de': False,\n",
       " 'company_name': 'Automattic',\n",
       " 'tags': ['wordpress', 'git'],\n",
       " 'job_name': 'Product Specialist, Parse.ly',\n",
       " 'job_url': 'https://boards.greenhouse.io/automatticcareers/jobs/3378029',\n",
       " 'location': 'Remote',\n",
       " 'img_url': 'https://storage.googleapis.com/findremote/automattic.jpg',\n",
       " 'mr': False,\n",
       " 'dis': False,\n",
       " 'swe': False}"
      ]
     },
     "execution_count": 26,
     "metadata": {},
     "output_type": "execute_result"
    }
   ],
   "source": []
  },
  {
   "cell_type": "code",
   "execution_count": 22,
   "id": "517d9e53-4c01-4ed4-a3b9-d744d4d28bf2",
   "metadata": {},
   "outputs": [],
   "source": [
    "old_listings = []\n",
    "for lising in listings.keys():\n",
    "    \n",
    "    old_listings.append(listings[lising]['job_id'])"
   ]
  },
  {
   "cell_type": "code",
   "execution_count": 24,
   "id": "2b39dfb8-64ef-400e-8dab-581180ed73c8",
   "metadata": {},
   "outputs": [
    {
     "name": "stdout",
     "output_type": "stream",
     "text": [
      "3378029\n",
      "3578148\n",
      "3596985\n",
      "3726506\n",
      "3903414\n",
      "3906560\n",
      "3906561\n",
      "3980452\n",
      "4023478\n",
      "4023479\n",
      "4026371\n",
      "4048890\n",
      "4048891\n",
      "4098501\n",
      "4145308\n",
      "4173399\n",
      "4198822\n",
      "4216392\n",
      "4266047\n",
      "4282193\n",
      "4339744\n",
      "4409707\n",
      "4409708\n",
      "4430074\n",
      "4439879\n",
      "4442600\n",
      "4449274\n",
      "4454909\n",
      "4460464\n",
      "5175522003\n",
      "5177192003\n",
      "5220287003\n",
      "5591853002\n",
      "5836422002\n",
      "5846677002\n",
      "5939088002\n",
      "5939092002\n",
      "5939098002\n",
      "5940081002\n",
      "5968406002\n",
      "6093527002\n",
      "6180965002\n",
      "6197086002\n",
      "6199259002\n",
      "6233617002\n",
      "6236567002\n",
      "6246819002\n",
      "6260653002\n",
      "6260665002\n",
      "6260969002\n",
      "6266188002\n",
      "6297420002\n",
      "6298867002\n",
      "6305213002\n"
     ]
    }
   ],
   "source": [
    "for old_listing in old_listings:\n",
    "    if old_listing not in new_listings:\n",
    "        print(old_listing)"
   ]
  },
  {
   "cell_type": "code",
   "execution_count": 10,
   "id": "844542da-ebbe-4ca4-838a-81ed3490f211",
   "metadata": {},
   "outputs": [
    {
     "data": {
      "text/plain": [
       "{'company_name': 'GitLab',\n",
       " 'swe': False,\n",
       " 'location': 'Remote, Americas',\n",
       " 'job_url': 'https://boards.greenhouse.io/gitlab/jobs/6322712002',\n",
       " 'em': False,\n",
       " 'ds': False,\n",
       " 'job_id': '6322712002',\n",
       " 'pm': False,\n",
       " 'location_simp': 'Remote, Americas',\n",
       " 'mr': False,\n",
       " 'dis': False,\n",
       " 'job_name': 'Senior Benefits Program Manager',\n",
       " 'tags_short': ['git', 'performance', 'express', 'math'],\n",
       " 'de': False,\n",
       " 'img_url': 'https://storage.googleapis.com/findremote/gitlab.jpg',\n",
       " 'datetime': DatetimeWithNanoseconds(2022, 8, 16, 19, 24, 47, 661552, tzinfo=<UTC>),\n",
       " 'tags': ['git', 'performance', 'express', 'math'],\n",
       " 'status': 'active',\n",
       " 'job_description': '<div class=\"\" id=\"content\">\\n<div class=\"content-intro\"><p>The GitLab <a class=\"editor-rtfLink\" href=\"https://about.gitlab.com/solutions/devops-platform/\" target=\"_blank\">DevOps platform</a>\\xa0empowers 100,000+ organizations to deliver software faster and more efficiently. We are one of the\\xa0<a class=\"editor-rtfLink\" href=\"https://about.gitlab.com/company/culture/all-remote/guide/\" target=\"_blank\">world’s largest all-remote companies</a> with 1,800+ team members and <a class=\"editor-rtfLink\" href=\"https://about.gitlab.com/handbook/values/\" target=\"_blank\">values</a>\\xa0that guide a culture where people embrace the belief that\\xa0everyone can contribute.</p></div>\\n<h4 class=\"header-link-title\" id=\"senior-benefits-program-manager\">Senior Benefits Program Manager</h4>\\n<p>The\\xa0<a href=\"https://about.gitlab.com/handbook/total-rewards/\">Total Rewards</a>\\xa0department strategically aligns the three pillars of team member rewards to create optimal organizational performance at GitLab: Compensation, Benefits, and Equity. Total Rewards designs and strategically executes programs in alignment with business goals. Programs fuel motivated and productive team members that are appreciated and rewarded for their contributions, driving GitLab to ever greater success.</p>\\n<p><span style=\"font-weight: 400;\">Don’t have a ton of knowledge about GitLab yet? Don’t worry. We have an extensive onboarding and training program at GitLab and you will be provided with necessary DevOps and GitLab knowledge to fulfill your role.</span></p>\\n<h5><strong>What you\\'ll do in this role</strong></h5>\\n<ul>\\n<li>Management of Benefits Plan Design Globally in coordination with a Global Benefits Broker.</li>\\n<li>Coordination with People Business Partners and GitLab Management on all related benefit plan inquires.</li>\\n<li>Management of Benefits Renewals, Plan Changes, and Open Enrollment.</li>\\n<li>Development of Benefits Roadmaps for each entity and PEO to determine future benefits in collaboration with Finance.</li>\\n<li>Development and Execution of Benefits Trainings to ensure team members understand benefits available to them.</li>\\n<li>Ensure compliance with all international rules and regulations.</li>\\n<li>Collaborate with the Total Rewards team on policies, processes, and procedures following the GitLab workflow, with the goal always being to make things easier from the perspective of the team members.</li>\\n<li>Build business case for new benefits based on supporting survey data to present to Total Rewards Leadership and key stakeholders.</li>\\n<li>Update Total Rewards documentation as appropriate.</li>\\n<li>Collect GitLab internal data to track trends in functional areas.</li>\\n<li>Collect external market data to support benefits roadmaps.</li>\\n<li>Total Rewards Statement Management to be able to report the three pillars of total rewards at the end of each compensation review cycle ensuring the ability to report benefits usage throughout the year.</li>\\n<li>Keep it efficient and DRY.</li>\\n</ul>\\n<h5><strong>We\\'re looking for</strong></h5>\\n<ul>\\n<li>Demonstrated experience in a Global Benefit role as appropriate for the grade.</li>\\n<li>For US Billing, required to be a US resident</li>\\n<li>Experience working with an international Benefits Broker.</li>\\n<li>Bachelor\\'s degree in Mathematics, Business, or HR preferred</li>\\n<li>Excellent written and verbal communication skills</li>\\n<li>Enthusiasm for, and broad experience with, software tools</li>\\n<li>Proven experience quickly learning new software tools</li>\\n<li>Willing to work with git and GitLab whenever possible</li>\\n<li>Willing to make Total Rewards as open and transparent as possible</li>\\n<li>You share our\\xa0<a href=\"https://about.gitlab.com/handbook/values/\">values</a>, and work in accordance with those values</li>\\n<li>The ability to work in a fast-paced environment with strong attention to detail is essential.</li>\\n<li>Ability to use GitLab</li>\\n</ul>\\n<p><span style=\"font-weight: 400;\">Also, we know it’s tough, but please try to avoid the \\u200b\\u200bconfidence gap\\u200b.\\u200b\\u200b You don’t have to match all the listed requirements exactly to be considered for this role.</span></p>\\n<h4><strong>Hiring Process</strong></h4>\\n<p><span style=\"font-weight: 400;\">To view the full job description and hiring process,</span><a href=\"https://about.gitlab.com/job-families/people-ops/total-rewards/#senior-benefits-program-manager\"><span style=\"font-weight: 400;\"> please view our\\u200b \\u200bhandbook\\u200b</span></a><span style=\"font-weight: 400;\">. </span><span style=\"font-weight: 400;\">Additional details about our process can also be found on</span><a href=\"https://about.gitlab.com/handbook/hiring/\"><span style=\"font-weight: 400;\"> </span><span style=\"font-weight: 400;\">our \\u200bhiring page\\u200b.</span></a></p>\\n<h4><strong>Compensation</strong></h4>\\n<p><span style=\"font-weight: 400;\">For Colorado residents: The base salary range for this role’s listed level is currently $84,000 - $126,000 for Colorado residents only. Grade level and salary ranges are determined through interviews and a review of education, experience, knowledge, skills, abilities of the applicant, equity with other team members, and alignment with market data. See more information on our</span><a href=\"https://bit.ly/GLBeneUS\"><span style=\"font-weight: 400;\"> </span><span style=\"font-weight: 400;\">benefits</span></a><span style=\"font-weight: 400;\"> and </span><a href=\"https://bit.ly/GLequity\"><span style=\"font-weight: 400;\">equity</span></a><span style=\"font-weight: 400;\">. Sales roles are also eligible for incentive pay targeted at up to 100% of the offered base salary. Disclosure as required by the Colorado Equal Pay for Equal Work Act, C.R.S. § 8-5-101 et seq.</span></p>\\n<p><span style=\"font-weight: 400;\">\\xa0</span><span style=\"font-weight: 400;\">\\xa0</span></p>\\n<p><span style=\"font-weight: 400;\">#LI-RD3</span></p>\\n<div class=\"content-conclusion\"><hr/>\\n<p><strong>Country Hiring Guidelines: </strong>GitLab hires new team members in countries around the world. All of our roles are remote, however some roles may carry specific location-based eligibility requirements. Our Talent Acquisition team can help answer any questions about location after starting the recruiting process.\\xa0\\xa0</p>\\n<p><strong>Privacy Policy: </strong>Please review our <a href=\"https://about.gitlab.com/handbook/hiring/recruitment-privacy-policy/\" target=\"_blank\">Recruitment Privacy Policy.</a> Your privacy is important to us.</p>\\n<p>GitLab is proud to be an equal opportunity workplace and is an affirmative action employer. GitLab’s policies and practices relating to recruitment, employment, career development and advancement, promotion, and retirement are based solely on merit, regardless of race, color, religion, ancestry, sex (including pregnancy, lactation, sexual orientation, gender identity, or gender expression), national origin, age, citizenship, marital status, mental or physical disability, genetic information (including family medical history), discharge status from the military, protected veteran status (which includes disabled veterans, recently separated veterans, active duty wartime or campaign badge veterans, and Armed Forces service medal veterans), or any other basis protected by law. GitLab will not tolerate discrimination or harassment based on any of these characteristics. See also\\xa0<a href=\"https://about.gitlab.com/handbook/people-policies/inc-usa/#equal-employment-opportunity-policy\" target=\"_blank\">GitLab’s EEO Policy</a>\\xa0and\\xa0<a href=\"https://about.gitlab.com/handbook/labor-and-employment-notices/#eeoc-us-equal-employment-opportunity-commission-notices\" target=\"_blank\">EEO is the Law</a>. If you have a disability or special need that requires\\xa0<a href=\"https://about.gitlab.com/handbook/people-policies/inc-usa/#reasonable-accommodation\" target=\"_blank\">accommodation</a>, please let us know during the\\xa0<a href=\"https://about.gitlab.com/handbook/hiring/interviewing/#adjustments-to-our-interview-process\" target=\"_blank\">recruiting process</a>.</p></div>\\n</div>'}"
      ]
     },
     "execution_count": 10,
     "metadata": {},
     "output_type": "execute_result"
    }
   ],
   "source": [
    "listing.to_dict()"
   ]
  },
  {
   "cell_type": "code",
   "execution_count": null,
   "id": "d873db7c-8fbf-413b-8374-bd5523a68c47",
   "metadata": {},
   "outputs": [],
   "source": []
  }
 ],
 "metadata": {
  "kernelspec": {
   "display_name": "Python 3 (ipykernel)",
   "language": "python",
   "name": "python3"
  },
  "language_info": {
   "codemirror_mode": {
    "name": "ipython",
    "version": 3
   },
   "file_extension": ".py",
   "mimetype": "text/x-python",
   "name": "python",
   "nbconvert_exporter": "python",
   "pygments_lexer": "ipython3",
   "version": "3.9.12"
  }
 },
 "nbformat": 4,
 "nbformat_minor": 5
}
