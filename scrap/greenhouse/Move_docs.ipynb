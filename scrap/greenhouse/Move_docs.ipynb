{
 "cells": [
  {
   "cell_type": "code",
   "execution_count": 1,
   "id": "602c407d-4b7b-4ce8-b3b6-6aa0659c22d5",
   "metadata": {},
   "outputs": [],
   "source": [
    "import requests\n",
    "from bs4 import BeautifulSoup\n",
    "import pandas as pd\n",
    "import time\n",
    "import datetime\n",
    "import os\n",
    "\n",
    "import firebase_admin\n",
    "from firebase_admin import credentials\n",
    "from firebase_admin import firestore\n",
    "\n",
    "import greenhouse"
   ]
  },
  {
   "cell_type": "code",
   "execution_count": 2,
   "id": "f77e48fe-1a00-4e09-afc9-1d1482b81838",
   "metadata": {},
   "outputs": [],
   "source": [
    "#initializing firestore\n",
    "cert_path = '/Users/dzianis/github/findremote-firebase-adminsdk-p9cw7-633a39d4a9.json'\n",
    "cred = credentials.Certificate(cert_path)\n",
    "firebase_admin.initialize_app(cred)\n",
    "\n",
    "# connect to db\n",
    "db = firestore.client()\n",
    "\n",
    "\n",
    "# get data from FireStore\n",
    "new_listings_db = db.collection(u'new_listings').stream()\n",
    "\n",
    "listings = dict()\n",
    "for listing in new_listings_db:\n",
    "    listings[listing.id] = listing.to_dict()"
   ]
  },
  {
   "cell_type": "code",
   "execution_count": 6,
   "id": "becc57cb-4d26-410a-8ec4-e4b189f1b522",
   "metadata": {},
   "outputs": [],
   "source": [
    "for job_id in listings.keys():\n",
    "    if 'greenhouse' in listings[job_id]['job_url']:\n",
    "        #doc_ref = db.collection(u'listings').document(job_id)\n",
    "        #doc_ref.set(listings[job_id]) \n",
    "        db.collection(u'new_listings').document(job_id).delete()"
   ]
  },
  {
   "cell_type": "code",
   "execution_count": null,
   "id": "83029600-d3a9-4e69-89de-80ad6801e8b7",
   "metadata": {},
   "outputs": [],
   "source": []
  }
 ],
 "metadata": {
  "kernelspec": {
   "display_name": "Python 3 (ipykernel)",
   "language": "python",
   "name": "python3"
  },
  "language_info": {
   "codemirror_mode": {
    "name": "ipython",
    "version": 3
   },
   "file_extension": ".py",
   "mimetype": "text/x-python",
   "name": "python",
   "nbconvert_exporter": "python",
   "pygments_lexer": "ipython3",
   "version": "3.9.12"
  }
 },
 "nbformat": 4,
 "nbformat_minor": 5
}
