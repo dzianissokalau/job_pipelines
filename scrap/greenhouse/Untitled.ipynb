{
 "cells": [
  {
   "cell_type": "code",
   "execution_count": 1,
   "id": "070c9ea7-a9e9-4743-923e-d15fc8e6c048",
   "metadata": {},
   "outputs": [],
   "source": [
    "import requests\n",
    "from bs4 import BeautifulSoup\n",
    "import pandas as pd\n",
    "import time\n",
    "import datetime\n",
    "\n",
    "import firebase_admin\n",
    "from firebase_admin import credentials\n",
    "from firebase_admin import firestore\n",
    "\n",
    "import greenhouse"
   ]
  },
  {
   "cell_type": "markdown",
   "id": "474ba30a-615e-4d0d-a961-516b56582f46",
   "metadata": {},
   "source": [
    "### 0. Initializing firestore"
   ]
  },
  {
   "cell_type": "code",
   "execution_count": 2,
   "id": "091a29a7-9f8d-4dd0-a0a5-491aa6a210e6",
   "metadata": {},
   "outputs": [],
   "source": [
    "#initializing firestore\n",
    "cred = credentials.Certificate('/Users/dzianis/github/findremote-firebase-adminsdk-p9cw7-633a39d4a9.json')\n",
    "firebase_admin.initialize_app(cred)\n",
    "\n",
    "# connect to db\n",
    "db = firestore.client()"
   ]
  },
  {
   "cell_type": "markdown",
   "id": "814623ff-7634-4f3d-8e0a-f9e05374f0a8",
   "metadata": {},
   "source": [
    "### 1. Read all available records in FireStore"
   ]
  },
  {
   "cell_type": "code",
   "execution_count": 3,
   "id": "ccb62fc8-9279-427d-88ca-d0ecaa8dd646",
   "metadata": {},
   "outputs": [],
   "source": [
    "listings_db = db.collection(u'listings_light').stream()\n",
    "\n",
    "listings = dict()\n",
    "for listing in listings_db:\n",
    "    listings[listing.id] = listing.to_dict()"
   ]
  },
  {
   "cell_type": "markdown",
   "id": "0c55f403-6cac-4c5e-9b5b-68206811ea5c",
   "metadata": {},
   "source": [
    "### 2. Scrap greenhouse"
   ]
  },
  {
   "cell_type": "code",
   "execution_count": 46,
   "id": "594aefd3-531e-42d4-929a-ff03b1a0b47f",
   "metadata": {},
   "outputs": [],
   "source": [
    "def get_roles(title):\n",
    "    # software engineer\n",
    "    swe = True if 'engineer' in title.lower().replace(' ', '') else False\n",
    "    \n",
    "    # data scientist\n",
    "    ds = True if 'datascien' in title.lower().replace(' ', '') \\\n",
    "                            or 'dataanaly' in title.lower().replace(' ', '') \\\n",
    "                            or 'productanaly' in title.lower().replace(' ', '') else False\n",
    "    \n",
    "    # data engineer\n",
    "    de = True if 'dataengineer' in title.lower().replace(' ', '') else False\n",
    "    \n",
    "    # engineering manager\n",
    "    em = True if 'engineeringmanag' in title.lower().replace(' ', '') else False\n",
    "\n",
    "    # product manager\n",
    "    pm = True if 'productmanag' in title.lower().replace(' ', '') else False\n",
    "\n",
    "    # design\n",
    "    dis = True if 'design' in title.lower().replace(' ', '') else False\n",
    "\n",
    "    # marketing\n",
    "    mr =  True if 'marketing' in title.lower().replace(' ', '') else False\n",
    "    \n",
    "    roles = {\n",
    "        'swe': swe,\n",
    "        'ds': ds,\n",
    "        'de': de,\n",
    "        'em': em,\n",
    "        'pm': pm,\n",
    "        'dis': dis,\n",
    "        'mr': mr\n",
    "    }\n",
    "\n",
    "    # create dict with roles\n",
    "    return roles\n",
    "\n",
    "\n",
    "\n",
    "def get_tags(description):\n",
    "    # tags\n",
    "    tags_list = ['javascript',\t'python',\t'java',\t'c#',\t'php',\t'android',\t'html',\t'jquery',\t'c++',\t'css',\t'mysql',\t'sql',\t'nodejs',\t'reactjs',\t'asp.net',\t'json',\t'.net',\t'sql-server',\t'swift',\t'django',\t'objective-c',\t'angular',\t'pandas',\t'regex',\t'ruby',\t'ajax',\t'linux',\t'xml',\t'vba',\t'spring',\t'typescript',\t'database',\t'wordpress',\t'wpf',\t'mongodb',\t'windows',\t'postgresql',\t'xcode',\t'bash',\t'oracle',\t'git',\t'aws',\t'vb.net',\t'multithreading',\t'flutter',\t'firebase',\t'dataframe',\t'eclipse',\t'azure',\t'react-native',\t'docker',\t'algorithm',\t'visual-studio',\t'scala',\t'powershell',\t'numpy',\t'api',\t'selenium',\t'performance',\t'winforms',\t'vuejs',\t'matlab',\t'sqlite',\t'shell',\t'express',\t'android-studio',\t'csv',\t'linq',\t'maven',\t'unit-testing',\t'swing',\t'tensorflow',\t'kotlin',\t'spark',\t'dart',\t'symfony',\t'tsql',\t'codeigniter',\t'opencv',\t'perl',\t'unity3d',\t'matplotlib',\t'sockets',\t'golang',\t'cordova',\t'xaml',\t'oop',\t'ubuntu',\t'ms-access',\t'parsing',\t'elasticsearch',\t'security',\t'jsp',\t'github',\t'nginx',\t'flask',\t'machine-learning',\t'delphi',\t'kubernetes',\t'haskell',\t'xamarin',\t'ssl',\t'ggplot2',\t'jenkins',\t'gradle',\t'visual-studio-code',\t'google-apps-script',\t'testing',\t'tkinter',\t'unix',\t'google-app-engine',\t's3',\t'google-sheets',\t'web-scraping',\t'hadoop',\t'mongo',\t'heroku',\t'animation',\t'curl',\t'math',\t'actionscript',\t'assembly',\t'image-processing',\t'keras',\t'gcp',\t'd3.js',\t'magento',\t'networking',\t'javafx',\t'optimization',\t'google-cloud-firestore',\t'facebook-graph-api',\t'cocoa-touch',\t'amazon-ec2',\t'pyspark',\t'xamarin.forms',\t'jdbc',\t'data-structures',\t'dplyr',\t'cakephp',\t'awk',\t'design-patterns',\t'visual-c++',\t'rust',\t'beautifulsoup',\t'ssh',\t'kafka',\t'sharepoint',\t'bootstrap',\t'vim',\t'graph',\t'silverlight',\t'plsql',\t'aws-lambda',\t'scikit-learn',\t'websocket',\t'shiny',\t'sass',\t'vuejs2',\t'deep-learning',\t'extjs',\t'apache-flex']\n",
    "\n",
    "    base = description.lower().replace('-', '').replace(' ', '')\n",
    "    \n",
    "    tags = []\n",
    "    for tag in tags_list:\n",
    "        if tag.lower().replace('-', '').replace(' ', '') in base:\n",
    "            tags.append(tag)\n",
    "    \n",
    "    return tags    \n",
    "\n",
    "\n",
    "\n",
    "\n",
    "\n",
    "def get_job_description(job_url):\n",
    "    # scrap job description\n",
    "    job_description_url = 'https://boards.greenhouse.io' + job_url\n",
    "    job_description_response = requests.get(job_description_url)\n",
    "    job_description_html = BeautifulSoup(job_description_response.content, 'html.parser')\n",
    "    job_description = str(job_description_html.find('div', id='content'))\n",
    "    \n",
    "    # unify job description\n",
    "    job_description = job_description.replace('h5', 'h6')\n",
    "    job_description = job_description.replace('h4', 'h6')\n",
    "    job_description = job_description.replace('h3', 'h5')\n",
    "    job_description = job_description.replace('h2', 'h4')\n",
    "    job_description = job_description.replace('h1', 'h4')\n",
    "    \n",
    "    return job_description\n",
    "    \n",
    "    \n",
    "    \n",
    "\n",
    "\n",
    "def get_job_data(raw):\n",
    "    # create dict to store results\n",
    "    job_data = dict()\n",
    "    \n",
    "    # link to job description + job_id + job name\n",
    "    job = raw.find('a')\n",
    "    job_data['job_name'] = job.text\n",
    "    job_data['job_url'] = job['href']\n",
    "    job_data['job_id'] = job_data['job_url'].split('/')[-1]\n",
    "    \n",
    "    # job roles (filter)\n",
    "    roles = get_roles(job_data['job_name'])\n",
    "    for role in roles.keys():\n",
    "        job_data[role] = roles[role]\n",
    "    \n",
    "    \n",
    "    # job location\n",
    "    job_data['location'] = raw.find('span', class_='location').text\n",
    "    job_data['location_simp'] = job_data['location'] if len(job_data['location']) <= 30 else 'Remote'\n",
    "    \n",
    "    # job description\n",
    "    job_data['job_description'] = get_job_description(job_data['job_url']) \n",
    "    \n",
    "    # tags\n",
    "    job_data['tags'] = get_tags(job_data['job_description'])\n",
    "    job_data['tags_short'] = job_data['tags'][0:5] if len(job_data['tags']) >= 5 else job_data['tags']\n",
    "    \n",
    "    return job_data"
   ]
  },
  {
   "cell_type": "code",
   "execution_count": 47,
   "id": "bb337221-d167-4e95-83f9-a26008b14327",
   "metadata": {},
   "outputs": [],
   "source": [
    "companies = {\n",
    "    'github': 'GitHub', \n",
    "    'gitlab': 'GitLab', \n",
    "    'invision': 'InVision', \n",
    "    'blockchain': 'Blockchain', \n",
    "    'automatticcareers': 'Automattic', \n",
    "    'monzo': 'Monzo', \n",
    "    'mozilla': 'Mozilla', \n",
    "    'autoscout24': 'Autoscout24',\n",
    "    'zapiercareers': 'Zapier' \n",
    "}"
   ]
  },
  {
   "cell_type": "code",
   "execution_count": 4,
   "id": "aafed14f-4155-4ce2-a10d-94b3e3e8e150",
   "metadata": {},
   "outputs": [],
   "source": [
    "companies = {\n",
    "    'autoscout24': 'Autoscout24'\n",
    "}\n",
    "\n",
    "\n",
    "url_base = 'https://boards.greenhouse.io'\n",
    "for company in companies.keys():\n",
    "    \n",
    "    company_url = url_base + '/' + company\n",
    "    response = requests.get(company_url)\n",
    "    time.sleep(5)\n",
    "    \n",
    "    response_html = BeautifulSoup(response.content, 'html.parser')\n",
    "    \n",
    "    #company name\n",
    "    company_name = companies[company]\n",
    "    \n",
    "    # openings\n",
    "    results = response_html.find_all('div', class_='opening')\n",
    "    for result in results:\n",
    "        job_data = greenhouse.get_job_data(result)\n",
    "        # additional data\n",
    "        job_data['company_name'] = company_name\n",
    "        job_data['img_url'] = 'https://storage.googleapis.com/findremote/' + company_name.lower() + '.jpg'\n",
    "        \n",
    "        # add timestamp if job is not in db yet\n",
    "        if job_data['job_id'] not in listings.keys():\n",
    "            job_data['datetime'] = pd.to_datetime(datetime.datetime.utcnow())\n",
    "            print('new job', job_data['job_name'], job_data['company_name'])\n",
    "        \n",
    "\n",
    "        # write to Fire Store (Content)\n",
    "        doc_ref = db.collection(u'listings').document(job_data['job_id'])\n",
    "        doc_ref.set(job_data)\n",
    "        \n",
    "        \n",
    "        time.sleep(5)"
   ]
  },
  {
   "cell_type": "code",
   "execution_count": 5,
   "id": "e7b0c0cb-9013-4e55-8b4a-c044bbf37ad0",
   "metadata": {},
   "outputs": [],
   "source": []
  },
  {
   "cell_type": "code",
   "execution_count": 9,
   "id": "ceda3900-627a-4d8e-a284-b8bd0ae1997b",
   "metadata": {},
   "outputs": [
    {
     "data": {
      "text/plain": [
       "'/Users/dzianis/github'"
      ]
     },
     "execution_count": 9,
     "metadata": {},
     "output_type": "execute_result"
    }
   ],
   "source": [
    "os.path.abspath('../../../') + '/findremote-firebase-adminsdk-p9cw7-633a39d4a9.json'"
   ]
  },
  {
   "cell_type": "code",
   "execution_count": null,
   "id": "28972c56-4fa9-4eff-8548-22e86d6db931",
   "metadata": {},
   "outputs": [],
   "source": [
    "'/' + '/'.join("
   ]
  }
 ],
 "metadata": {
  "kernelspec": {
   "display_name": "Python 3 (ipykernel)",
   "language": "python",
   "name": "python3"
  },
  "language_info": {
   "codemirror_mode": {
    "name": "ipython",
    "version": 3
   },
   "file_extension": ".py",
   "mimetype": "text/x-python",
   "name": "python",
   "nbconvert_exporter": "python",
   "pygments_lexer": "ipython3",
   "version": "3.9.12"
  }
 },
 "nbformat": 4,
 "nbformat_minor": 5
}
