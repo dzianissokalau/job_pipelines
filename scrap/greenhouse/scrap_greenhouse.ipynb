{
 "cells": [
  {
   "cell_type": "code",
   "execution_count": 49,
   "id": "4d272529-bb26-47af-9b6e-4fd924367bc2",
   "metadata": {},
   "outputs": [],
   "source": [
    "import requests\n",
    "from bs4 import BeautifulSoup\n",
    "import pandas as pd\n",
    "import time"
   ]
  },
  {
   "cell_type": "code",
   "execution_count": 53,
   "id": "98cdc114-bab5-46f3-83ba-35cd78413f55",
   "metadata": {},
   "outputs": [],
   "source": [
    "url_base = 'https://boards.greenhouse.io'\n",
    "companies = ['github', 'gitlab', 'invision', 'blockchain', 'automatticcareers']\n",
    "# jobs = pd.DataFrame()\n",
    "\n",
    "for company in companies:\n",
    "    \n",
    "    company_url = url_base + '/' + company\n",
    "    response = requests.get(company_url)\n",
    "    response_html = BeautifulSoup(response.content, 'html.parser')\n",
    "    results = response_html.find_all('div', class_='opening')\n",
    "    \n",
    "    for result in results:\n",
    "        job = result.find('a')\n",
    "        job_url = job['href']\n",
    "        job_name = job.text\n",
    "        job_location = result.find('span', class_='location').text\n",
    "        \n",
    "        # job description\n",
    "        job_description_url = 'https://boards.greenhouse.io' + job_url\n",
    "        job_description_response = requests.get(job_description_url)\n",
    "        job_description_html = BeautifulSoup(job_description_response.content, 'html.parser')\n",
    "        job_description = job_description_html.find('div', id='content')\n",
    "        \n",
    "        \n",
    "        jobs_temp = pd.DataFrame({\n",
    "            'company': [company],\n",
    "            'job_name': [job_name],\n",
    "            'location': [job_location],\n",
    "            'job_url': [job_url],\n",
    "            'job_description': [job_description]\n",
    "        })\n",
    "        \n",
    "        jobs = pd.concat([jobs, jobs_temp], ignore_index=True)\n",
    "        \n",
    "        time.sleep(5)"
   ]
  },
  {
   "cell_type": "code",
   "execution_count": 51,
   "id": "1eeb4901-e7b3-4669-98a0-986431bf980c",
   "metadata": {},
   "outputs": [
    {
     "data": {
      "text/html": [
       "<div>\n",
       "<style scoped>\n",
       "    .dataframe tbody tr th:only-of-type {\n",
       "        vertical-align: middle;\n",
       "    }\n",
       "\n",
       "    .dataframe tbody tr th {\n",
       "        vertical-align: top;\n",
       "    }\n",
       "\n",
       "    .dataframe thead th {\n",
       "        text-align: right;\n",
       "    }\n",
       "</style>\n",
       "<table border=\"1\" class=\"dataframe\">\n",
       "  <thead>\n",
       "    <tr style=\"text-align: right;\">\n",
       "      <th></th>\n",
       "      <th>company</th>\n",
       "      <th>job_name</th>\n",
       "      <th>location</th>\n",
       "      <th>job_url</th>\n",
       "      <th>job_description</th>\n",
       "    </tr>\n",
       "  </thead>\n",
       "  <tbody>\n",
       "    <tr>\n",
       "      <th>0</th>\n",
       "      <td>github</td>\n",
       "      <td>IT Product Manager</td>\n",
       "      <td>Remote - US West Coast</td>\n",
       "      <td>/github/jobs/4147448</td>\n",
       "      <td>[\\n, [[We are currently hiring an IT Product M...</td>\n",
       "    </tr>\n",
       "    <tr>\n",
       "      <th>1</th>\n",
       "      <td>github</td>\n",
       "      <td>IT Software Engineer</td>\n",
       "      <td>Remote - US West Coast</td>\n",
       "      <td>/github/jobs/4016529</td>\n",
       "      <td>[\\n, [[The IT Engineering team at GitHub is gr...</td>\n",
       "    </tr>\n",
       "    <tr>\n",
       "      <th>2</th>\n",
       "      <td>github</td>\n",
       "      <td>Design Director – Education, Communities, and ...</td>\n",
       "      <td>Remote - US</td>\n",
       "      <td>/github/jobs/3992208</td>\n",
       "      <td>[\\n, [GitHub is changing the way the world bui...</td>\n",
       "    </tr>\n",
       "    <tr>\n",
       "      <th>3</th>\n",
       "      <td>github</td>\n",
       "      <td>Design Director – Education, Communities, and ...</td>\n",
       "      <td>Remote - Canada</td>\n",
       "      <td>/github/jobs/3992209</td>\n",
       "      <td>[\\n, [GitHub is changing the way the world bui...</td>\n",
       "    </tr>\n",
       "    <tr>\n",
       "      <th>4</th>\n",
       "      <td>github</td>\n",
       "      <td>Design Director – Education, Communities, and ...</td>\n",
       "      <td>Remote - US East</td>\n",
       "      <td>/github/jobs/4177775</td>\n",
       "      <td>[\\n, [GitHub is changing the way the world bui...</td>\n",
       "    </tr>\n",
       "  </tbody>\n",
       "</table>\n",
       "</div>"
      ],
      "text/plain": [
       "  company                                           job_name  \\\n",
       "0  github                                 IT Product Manager   \n",
       "1  github                               IT Software Engineer   \n",
       "2  github  Design Director – Education, Communities, and ...   \n",
       "3  github  Design Director – Education, Communities, and ...   \n",
       "4  github  Design Director – Education, Communities, and ...   \n",
       "\n",
       "                 location               job_url  \\\n",
       "0  Remote - US West Coast  /github/jobs/4147448   \n",
       "1  Remote - US West Coast  /github/jobs/4016529   \n",
       "2             Remote - US  /github/jobs/3992208   \n",
       "3         Remote - Canada  /github/jobs/3992209   \n",
       "4        Remote - US East  /github/jobs/4177775   \n",
       "\n",
       "                                     job_description  \n",
       "0  [\\n, [[We are currently hiring an IT Product M...  \n",
       "1  [\\n, [[The IT Engineering team at GitHub is gr...  \n",
       "2  [\\n, [GitHub is changing the way the world bui...  \n",
       "3  [\\n, [GitHub is changing the way the world bui...  \n",
       "4  [\\n, [GitHub is changing the way the world bui...  "
      ]
     },
     "execution_count": 51,
     "metadata": {},
     "output_type": "execute_result"
    }
   ],
   "source": [
    "jobs.head()"
   ]
  },
  {
   "cell_type": "code",
   "execution_count": 54,
   "id": "08acf3b3-aea9-4bfd-a0df-81dec958586b",
   "metadata": {},
   "outputs": [
    {
     "data": {
      "text/plain": [
       "544"
      ]
     },
     "execution_count": 54,
     "metadata": {},
     "output_type": "execute_result"
    }
   ],
   "source": [
    "len(jobs)"
   ]
  },
  {
   "cell_type": "code",
   "execution_count": 55,
   "id": "1b3264a4-df87-461f-911c-930f8c2fd488",
   "metadata": {},
   "outputs": [
    {
     "data": {
      "text/plain": [
       "array(['github', 'gitlab', 'invision', 'blockchain', 'automatticcareers'],\n",
       "      dtype=object)"
      ]
     },
     "execution_count": 55,
     "metadata": {},
     "output_type": "execute_result"
    }
   ],
   "source": [
    "jobs.company.unique()"
   ]
  },
  {
   "cell_type": "code",
   "execution_count": 58,
   "id": "42580d9a-b8fa-4738-921d-009885e48ced",
   "metadata": {},
   "outputs": [],
   "source": [
    "jobs.to_csv('jobs_list.csv', index=False)"
   ]
  },
  {
   "cell_type": "code",
   "execution_count": null,
   "id": "a2dd9e6c-0c2e-43d9-bb62-85a0323eebe8",
   "metadata": {},
   "outputs": [],
   "source": []
  }
 ],
 "metadata": {
  "kernelspec": {
   "display_name": "Python 3 (ipykernel)",
   "language": "python",
   "name": "python3"
  },
  "language_info": {
   "codemirror_mode": {
    "name": "ipython",
    "version": 3
   },
   "file_extension": ".py",
   "mimetype": "text/x-python",
   "name": "python",
   "nbconvert_exporter": "python",
   "pygments_lexer": "ipython3",
   "version": "3.9.12"
  }
 },
 "nbformat": 4,
 "nbformat_minor": 5
}
