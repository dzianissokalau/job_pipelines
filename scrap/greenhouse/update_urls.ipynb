{
 "cells": [
  {
   "cell_type": "code",
   "execution_count": 1,
   "id": "855155f1-c115-4e45-9911-f695d64afa16",
   "metadata": {},
   "outputs": [],
   "source": [
    "import requests\n",
    "from bs4 import BeautifulSoup\n",
    "import pandas as pd\n",
    "import time\n",
    "import datetime\n",
    "import os\n",
    "\n",
    "import firebase_admin\n",
    "from firebase_admin import credentials\n",
    "from firebase_admin import firestore\n",
    "\n",
    "import greenhouse"
   ]
  },
  {
   "cell_type": "code",
   "execution_count": 2,
   "id": "81a047be-1068-4ae9-abf0-715d8aab7162",
   "metadata": {},
   "outputs": [],
   "source": [
    "#initializing firestore\n",
    "cert_path = '/Users/dzianis/github/findremote-firebase-adminsdk-p9cw7-633a39d4a9.json'\n",
    "cred = credentials.Certificate(cert_path)\n",
    "firebase_admin.initialize_app(cred)\n",
    "\n",
    "# connect to db\n",
    "db = firestore.client()\n",
    "\n",
    "\n",
    "\n",
    "\n",
    "# get data from FireStore\n",
    "listings_db = db.collection(u'listings').stream()\n",
    "\n",
    "listings = dict()\n",
    "for listing in listings_db:\n",
    "    listings[listing.id] = listing.to_dict()"
   ]
  },
  {
   "cell_type": "code",
   "execution_count": 3,
   "id": "1a38471e-1619-4e3f-b084-83caf7d0cf56",
   "metadata": {},
   "outputs": [],
   "source": [
    "for job_id in listings.keys():\n",
    "    listings[job_id]['job_url'] = 'https://boards.greenhouse.io' + listings[job_id]['job_url']\n",
    "#    doc_ref = db.collection(u'listings').document(job_id)\n",
    "#    doc_ref.set(listings[job_id]) "
   ]
  },
  {
   "cell_type": "code",
   "execution_count": 5,
   "id": "3f2aa956-e9f0-4287-b0c6-f7e4d0553d9b",
   "metadata": {},
   "outputs": [],
   "source": [
    "for job_id in listings.keys():\n",
    "    doc_ref = db.collection(u'listings').document(job_id)\n",
    "    doc_ref.set(listings[job_id]) "
   ]
  },
  {
   "cell_type": "code",
   "execution_count": null,
   "id": "df7d56c6-4991-4481-9011-465d1e131a92",
   "metadata": {},
   "outputs": [],
   "source": []
  }
 ],
 "metadata": {
  "kernelspec": {
   "display_name": "Python 3 (ipykernel)",
   "language": "python",
   "name": "python3"
  },
  "language_info": {
   "codemirror_mode": {
    "name": "ipython",
    "version": 3
   },
   "file_extension": ".py",
   "mimetype": "text/x-python",
   "name": "python",
   "nbconvert_exporter": "python",
   "pygments_lexer": "ipython3",
   "version": "3.9.12"
  }
 },
 "nbformat": 4,
 "nbformat_minor": 5
}
