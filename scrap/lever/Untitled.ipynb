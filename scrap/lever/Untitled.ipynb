{
 "cells": [
  {
   "cell_type": "code",
   "execution_count": 4,
   "id": "8f06237e-a257-40eb-bd85-be10c1cc3bca",
   "metadata": {},
   "outputs": [],
   "source": [
    "import requests\n",
    "from bs4 import BeautifulSoup\n",
    "import pandas as pd\n",
    "import time\n",
    "import datetime\n",
    "import unicodedata\n",
    "import os\n",
    "\n",
    "import firebase_admin\n",
    "from firebase_admin import credentials\n",
    "from firebase_admin import firestore\n",
    "\n",
    "import lever\n",
    "\n",
    "import tags\n",
    "import re"
   ]
  },
  {
   "cell_type": "code",
   "execution_count": null,
   "id": "a8a17988-6935-4a3b-8dc5-b2245ba9cb23",
   "metadata": {},
   "outputs": [],
   "source": [
    "#initializing firestore\n",
    "cert_path = '/Users/dzianis/github/' + 'findremote-firebase-adminsdk-p9cw7-633a39d4a9.json'\n",
    "cred = credentials.Certificate(cert_path)\n",
    "firebase_admin.initialize_app(cred)\n",
    "\n",
    "# connect to db\n",
    "db = firestore.client()\n",
    "\n",
    "\n",
    "\n",
    "\n",
    "# get data from FireStore\n",
    "listings_db = db.collection(u'new_listings').stream()\n",
    "\n",
    "listings = dict()\n",
    "for listing in listings_db:\n",
    "    listings[listing.id] = listing.to_dict()"
   ]
  },
  {
   "cell_type": "code",
   "execution_count": 9,
   "id": "10ee591e-9b56-460a-84b6-5dc68b87ee01",
   "metadata": {},
   "outputs": [
    {
     "name": "stdout",
     "output_type": "stream",
     "text": [
      "1668564873 2022-11-16 02:14:33.681609+00:00\n"
     ]
    }
   ],
   "source": [
    "#listings.keys()\n",
    "#listings['00043660-46f4-448a-8f86-cdea042015c4']\n",
    "\n",
    "u = 1662074997\n",
    "\n",
    "for k in listings.keys():\n",
    "    if listings[k]['unix_timestamp'] > u:\n",
    "        u = listings[k]['unix_timestamp']\n",
    "        t = listings[k]['datetime']\n",
    "        \n",
    "        \n",
    "print(u, t)"
   ]
  },
  {
   "cell_type": "code",
   "execution_count": 11,
   "id": "ed2319f1-6b13-4fe7-a2f1-0effe6deb22a",
   "metadata": {},
   "outputs": [
    {
     "data": {
      "text/plain": [
       "\"\\n    'lime': 'Lime',\\n    'gantry': 'Gantry',\\n    'dbtlabs': 'dbt Labs',\\n    'clearbit': 'Clearbit',\\n    'sonatype': 'Sonatype',\\n    'stackadapt': 'StackAdapt',\\n    'benchsci': 'BenchSci',\\n    'koho': 'KOHO',\\n    'gettyimages': 'gettyimages',\\n    'scribd': 'Scribd',\\n    'canva': 'Canva',\\n    'xero': 'Xero'\\n    \""
      ]
     },
     "execution_count": 11,
     "metadata": {},
     "output_type": "execute_result"
    }
   ],
   "source": [
    "companies = {\n",
    "    'spotify': 'Spotify',\n",
    "    'binance': 'Binance',\n",
    "    'kraken': 'Kraken'\n",
    "}\n",
    "\"\"\"\n",
    "    'lime': 'Lime',\n",
    "    'gantry': 'Gantry',\n",
    "    'dbtlabs': 'dbt Labs',\n",
    "    'clearbit': 'Clearbit',\n",
    "    'sonatype': 'Sonatype',\n",
    "    'stackadapt': 'StackAdapt',\n",
    "    'benchsci': 'BenchSci',\n",
    "    'koho': 'KOHO',\n",
    "    'gettyimages': 'gettyimages',\n",
    "    'scribd': 'Scribd',\n",
    "    'canva': 'Canva',\n",
    "    'xero': 'Xero'\n",
    "    \"\"\""
   ]
  },
  {
   "cell_type": "code",
   "execution_count": 42,
   "id": "fc868b63-7bfa-4af4-9b86-e002d32b3611",
   "metadata": {},
   "outputs": [],
   "source": [
    "def get_job_description(job_url):\n",
    "    # scrap job description\n",
    "    job_description_url = job_url\n",
    "    job_description_response = requests.get(job_description_url)\n",
    "    job_description_html = BeautifulSoup(job_description_response.content, 'html.parser')\n",
    "    job_description = job_description_html.find_all('div', attrs={'class': 'section page-centered'})\n",
    "    \n",
    "    job_description = ''.join([unicodedata.normalize(\"NFKD\", str(d)) for d in job_description])\n",
    "    \n",
    "    # unify job description\n",
    "    job_description = job_description.replace('h5', 'h6')\n",
    "    job_description = job_description.replace('h4', 'h6')\n",
    "    job_description = job_description.replace('h3', 'h5')\n",
    "    job_description = job_description.replace('h2', 'h4')\n",
    "    job_description = job_description.replace('h1', 'h4')\n",
    "\n",
    "    return job_description\n",
    "\n",
    "\n",
    "\n",
    "def get_roles(title):\n",
    "    # software engineer\n",
    "    swe = True if 'engineer' in title.lower().replace(' ', '') else False\n",
    "    \n",
    "    # data scientist\n",
    "    ds = True if 'datascien' in title.lower().replace(' ', '') \\\n",
    "                            or 'dataanaly' in title.lower().replace(' ', '') \\\n",
    "                            or 'productanaly' in title.lower().replace(' ', '') else False\n",
    "    \n",
    "    # data engineer\n",
    "    de = True if 'dataengineer' in title.lower().replace(' ', '') else False\n",
    "    \n",
    "    # engineering manager\n",
    "    em = True if 'engineeringmanag' in title.lower().replace(' ', '') else False\n",
    "\n",
    "    # product manager\n",
    "    pm = True if 'productmanag' in title.lower().replace(' ', '') else False\n",
    "\n",
    "    # design\n",
    "    dis = True if 'design' in title.lower().replace(' ', '') else False\n",
    "\n",
    "    # marketing\n",
    "    mr =  True if 'marketing' in title.lower().replace(' ', '') else False\n",
    "    \n",
    "    roles = {\n",
    "        'swe': swe,\n",
    "        'ds': ds,\n",
    "        'de': de,\n",
    "        'em': em,\n",
    "        'pm': pm,\n",
    "        'dis': dis,\n",
    "        'mr': mr\n",
    "    }\n",
    "\n",
    "    # create dict with roles\n",
    "    return roles\n",
    "\n",
    "\n",
    "\n",
    "def get_tags_lists(tags_list, description):\n",
    "    job_tags = tags.get_list(tags_list, description)\n",
    "    \n",
    "    return job_tags \n",
    "\n",
    "\n",
    "\n",
    "def get_job_data(raw):\n",
    "    # create dict to store results\n",
    "    job_data = dict()\n",
    "    \n",
    "    # link to job description + job_id + job name\n",
    "    job = raw.find('a', attrs={'class': 'posting-title'})\n",
    "    job_data['job_name'] = job.find(attrs={'data-qa': 'posting-name'}).text\n",
    "    job_data['job_url'] = job['href']\n",
    "    job_data['job_id'] = job_data['job_url'].split('/')[-1]\n",
    "    \n",
    "    if raw.find('span', class_='sort-by-team posting-category small-category-label') is None:\n",
    "        job_data['job_category'] = ''\n",
    "    else:\n",
    "        job_data['job_category'] = raw.find('span', class_='sort-by-team posting-category small-category-label').text\n",
    "    \n",
    "    # job roles (filter)\n",
    "    roles = get_roles(job_data['job_name'])\n",
    "    for role in roles.keys():\n",
    "        job_data[role] = roles[role]\n",
    "    \n",
    "    \n",
    "    # job location\n",
    "    job_data['location'] = result.find('span', class_='sort-by-location posting-category small-category-label location').text\n",
    "    job_data['location_simp'] = job_data['location'] if len(job_data['location']) <= 30 else 'Remote'\n",
    "    \n",
    "    # job description\n",
    "    job_data['job_description'] = get_job_description(job_data['job_url']) \n",
    "    \n",
    "    # tags\n",
    "    job_data['tags'] = get_tags_lists(tags.get_tags(), job_data['job_description']) \n",
    "    job_data['tags_short'] = job_data['tags'][0:5] if len(job_data['tags']) >= 5 else job_data['tags']\n",
    "    \n",
    "    return job_data\n",
    "\n",
    "\n",
    "\n",
    "def get_job_id(raw):\n",
    "    job = raw.find('a')\n",
    "    job_url = job['href']\n",
    "    job_id = job_url.split('/')[-1]\n",
    "    \n",
    "    return job_id"
   ]
  },
  {
   "cell_type": "code",
   "execution_count": 43,
   "id": "d668d6fe-30bd-4f5b-9bd7-d818deef4152",
   "metadata": {},
   "outputs": [
    {
     "ename": "KeyboardInterrupt",
     "evalue": "",
     "output_type": "error",
     "traceback": [
      "\u001b[0;31m---------------------------------------------------------------------------\u001b[0m",
      "\u001b[0;31mKeyboardInterrupt\u001b[0m                         Traceback (most recent call last)",
      "Input \u001b[0;32mIn [43]\u001b[0m, in \u001b[0;36m<cell line: 5>\u001b[0;34m()\u001b[0m\n\u001b[1;32m     34\u001b[0m         \u001b[38;5;28;01melse\u001b[39;00m:\n\u001b[1;32m     35\u001b[0m             job_data[\u001b[38;5;124m'\u001b[39m\u001b[38;5;124munix_timestamp\u001b[39m\u001b[38;5;124m'\u001b[39m] \u001b[38;5;241m=\u001b[39m \u001b[38;5;28mint\u001b[39m((job_data[\u001b[38;5;124m'\u001b[39m\u001b[38;5;124mdatetime\u001b[39m\u001b[38;5;124m'\u001b[39m]\u001b[38;5;241m.\u001b[39mreplace(tzinfo\u001b[38;5;241m=\u001b[39m\u001b[38;5;28;01mNone\u001b[39;00m) \u001b[38;5;241m-\u001b[39m datetime\u001b[38;5;241m.\u001b[39mdatetime(\u001b[38;5;241m1970\u001b[39m, \u001b[38;5;241m1\u001b[39m, \u001b[38;5;241m1\u001b[39m))\u001b[38;5;241m.\u001b[39mtotal_seconds())      \n\u001b[0;32m---> 39\u001b[0m         \u001b[43mtime\u001b[49m\u001b[38;5;241;43m.\u001b[39;49m\u001b[43msleep\u001b[49m\u001b[43m(\u001b[49m\u001b[38;5;241;43m5\u001b[39;49m\u001b[43m)\u001b[49m\n\u001b[1;32m     41\u001b[0m \u001b[38;5;124;03m\"\"\"\u001b[39;00m\n\u001b[1;32m     42\u001b[0m \u001b[38;5;124;03m\"\"\"\u001b[39;00m\n",
      "\u001b[0;31mKeyboardInterrupt\u001b[0m: "
     ]
    }
   ],
   "source": [
    "new_listings = []\n",
    "\n",
    "\n",
    "url_base = 'https://jobs.lever.co'\n",
    "for company in companies.keys():\n",
    "    company_url = url_base + '/' + company\n",
    "    response = requests.get(company_url)\n",
    "    time.sleep(5)\n",
    "    \n",
    "    response_html = BeautifulSoup(response.content, 'html.parser')\n",
    "    \n",
    "    #company name\n",
    "    company_name = companies[company]\n",
    "    \n",
    "    # openings\n",
    "    results = response_html.find_all('div', class_='posting')\n",
    "    for result in results:\n",
    "        job_data = get_job_data(result)\n",
    "        \n",
    "        new_listings.append(job_data['job_id'])\n",
    "\n",
    "        # additional data\n",
    "        job_data['company_name'] = company_name\n",
    "        job_data['img_url'] = 'https://storage.googleapis.com/findremote/' + company_name.lower() + '.jpg'\n",
    "        job_data['status'] = 'active'\n",
    "        # add timestamp if job is not in db yet\n",
    "        if job_data['job_id'] not in listings.keys() or 'datetime' not in listings[job_data['job_id']].keys():\n",
    "            job_data['datetime'] = pd.to_datetime(datetime.datetime.utcnow())\n",
    "        else:\n",
    "            job_data['datetime'] = listings[job_data['job_id']]['datetime']  \n",
    "\n",
    "        if type(job_data['datetime']) == str:\n",
    "            job_data['unix_timestamp'] = int((datetime.datetime.strptime(job_data['datetime'], \"%Y-%m-%d %H:%M:%S.%f\") - datetime.datetime(1970, 1, 1)).total_seconds())\n",
    "        else:\n",
    "            job_data['unix_timestamp'] = int((job_data['datetime'].replace(tzinfo=None) - datetime.datetime(1970, 1, 1)).total_seconds())      \n",
    "\n",
    "            \n",
    "\n",
    "        time.sleep(5)\n",
    "        \n",
    "\"\"\"\n",
    "\"\"\""
   ]
  },
  {
   "cell_type": "code",
   "execution_count": 40,
   "id": "21062e5a-2bb2-43a5-81f4-709431e25f02",
   "metadata": {},
   "outputs": [
    {
     "data": {
      "text/plain": [
       "'https://jobs.lever.co/spotify/e9cf8f05-3a68-4156-8d4c-e4fb59c7fc14'"
      ]
     },
     "execution_count": 40,
     "metadata": {},
     "output_type": "execute_result"
    }
   ],
   "source": [
    "result.find('a', attrs={'class': 'posting-title'})['href']"
   ]
  },
  {
   "cell_type": "code",
   "execution_count": 19,
   "id": "4b3d4e6f-faaf-42ff-993a-3eb6fc835aa7",
   "metadata": {},
   "outputs": [
    {
     "name": "stdout",
     "output_type": "stream",
     "text": [
      "NA\n"
     ]
    }
   ],
   "source": [
    "if result.find('span', class_='sort-by-team posting-category small-category-label') is None:\n",
    "    print('NA')"
   ]
  },
  {
   "cell_type": "code",
   "execution_count": 44,
   "id": "c2204311-3a66-4dab-b623-c9e5ce9ba5f1",
   "metadata": {},
   "outputs": [
    {
     "data": {
      "text/plain": [
       "{'job_name': 'Summer Internship, Backend Engineering Intern | Financial Engineering Mission (EMEA)',\n",
       " 'job_url': 'https://jobs.lever.co/spotify/212b26bd-1919-4d18-b113-9b0e8fd88ca1',\n",
       " 'job_id': '212b26bd-1919-4d18-b113-9b0e8fd88ca1',\n",
       " 'job_category': '',\n",
       " 'swe': True,\n",
       " 'ds': False,\n",
       " 'de': False,\n",
       " 'em': False,\n",
       " 'pm': False,\n",
       " 'dis': False,\n",
       " 'mr': False,\n",
       " 'location': 'Stockholm',\n",
       " 'location_simp': 'Stockholm',\n",
       " 'job_description': '<div class=\"section page-centered\" data-qa=\"job-description\"><div><span style=\"font-size: 11pt\">We are looking for a software engineer to join our Financial Engineering organisation. Our mission is to build the technology platform that underpins our key company decisions, revenue and royalty calculations, financial performance management and our ability to scale out to new markets and products.</span><span style=\"font-size: 13pt\"> </span></div></div><div class=\"section page-centered\"><div><h5>What you\\'ll do </h5><ul class=\"posting-requirements plain-list\"><ul><li>Help build a system to handle and connect to various payment service providers worldwide to reconcile all Spotify payments.</li><li>Work closely with the engineering team to achieve a high level of code quality, performance and reliability.</li><li>Keep code maintainable through extensive documentation and automated tests.</li><li>Describe implementation decisions with peer code reviews and walkthroughs.</li><li>Learn about multiple modern technologies ranging from user facing software to backend infrastructure.</li><li>Partner with your engineering manager, product manager, and technical lead to scope and execute your tasks.</li></ul></ul></div></div><div class=\"section page-centered\"><div><h5>Who you are</h5><ul class=\"posting-requirements plain-list\"><ul><li>You are pursuing a Bachelor’s or Master’s degree in Software Development, Computer Science, Computer Engineering or other related fields and plan to graduate in 2023 or 2024.</li><li>You are familiar with object-oriented programming, test driven development. Experience coding with Java is a plus! </li><li>You currently have a valid work authorization to work in the country in which this role is based that will extend from June to August 2023</li><li>You are curious and a self-starter who’s looking to make an impact.</li><li>You pride yourself on excellent analytical and problem-solving skills</li><li>You enjoy collaborative work in a dynamic, challenging and team-based environment.</li></ul></ul></div></div><div class=\"section page-centered\"><div><h5>Where you\\'ll be</h5><ul class=\"posting-requirements plain-list\"><ul><li>We are a distributed workforce enabling our band members to find a work mode that is best for them!</li><li>Where in the world? For this role, it can be within the <a class=\"postings-link\" href=\"https://www.lifeatspotify.com/work-by-region\">EMEA</a> region in which we have a work location. Preferably in Stockholm.</li><li>Prefer an office to work from home instead? Not a problem! We have plenty of options for your working preferences. Find more information about our Work From Anywhere options <a class=\"postings-link\" href=\"https://spotifyjobs.com/work-from-anywhere\">here</a>. </li></ul></ul></div></div><div class=\"section page-centered\" data-qa=\"closing-description\"><div>Our paid summer internships last for 10-13 weeks and start at the beginning of June. The last day to apply is <u>February 13th, 2023 at 12 PM CET.</u></div><div><br/></div><div>Spotify is an equal opportunity employer. You are welcome at Spotify for who you are, no matter where you come from, what you look like, or what’s playing in your headphones. Our platform is for everyone, and so is our workplace. The more voices we have represented and amplified in our business, the more we will all thrive, contribute, and be forward-thinking! So bring us your personal experience, your perspectives, and your background. It’s in our differences that we will find the power to keep revolutionizing the way the world listens.</div><div><br/></div><div>Spotify transformed music listening forever when we launched in 2008. Our mission is to unlock the potential of human creativity by giving a million creative artists the opportunity to live off their art and billions of fans the chance to enjoy and be passionate about these creators. Everything we do is driven by our love for music and podcasting. Today, we are the world’s most popular audio streaming subscription service.</div></div>',\n",
       " 'tags': ['java'],\n",
       " 'tags_short': ['java'],\n",
       " 'company_name': 'Spotify',\n",
       " 'img_url': 'https://storage.googleapis.com/findremote/spotify.jpg',\n",
       " 'status': 'active',\n",
       " 'datetime': Timestamp('2023-02-11 18:21:47.826582'),\n",
       " 'unix_timestamp': 1676139707}"
      ]
     },
     "execution_count": 44,
     "metadata": {},
     "output_type": "execute_result"
    }
   ],
   "source": [
    "job_data"
   ]
  },
  {
   "cell_type": "code",
   "execution_count": 32,
   "id": "6ec35bd2-ed45-4ca4-b3bd-ccc093a03609",
   "metadata": {},
   "outputs": [],
   "source": [
    "job_description_url = 'https://jobs.lever.co/spotify/775b1da6-9de0-4aa0-b5b6-634efc9aea0e'\n",
    "job_description_response = requests.get(job_description_url)\n",
    "job_description_html = BeautifulSoup(job_description_response.content, 'html.parser')\n",
    "job_description = job_description_html.find_all('div', attrs={'class': 'section page-centered'})"
   ]
  },
  {
   "cell_type": "code",
   "execution_count": 33,
   "id": "328d3733-aa0c-4cf2-952f-963a4989c701",
   "metadata": {},
   "outputs": [
    {
     "data": {
      "text/plain": [
       "[<div class=\"section page-centered\" data-qa=\"job-description\"><div>At Spotify Advertising R&amp;D, our mission is to build the next-generation advertising platform for audio which can scale the freemium experience for hundreds of millions of fans and tens of thousands of advertisers. This scale brings unique challenges as well as tremendous opportunities to define our business.</div><div><br/></div><div>We are looking for a Backend Engineering intern that will join a growing team in Advertising at Spotify focused on payments. You will work on projects using industry-standard tools to give our Advertisers the best experience and ensure we’re collecting payment timely and accurately.  You’ll be working closely within a team with other engineers at every stage through the software development lifecycle, learning hands-on how to deliver multi-tier applications at scale. Above all, your work will impact the way the world experiences music.</div></div>,\n",
       " <div class=\"section page-centered\"><div><h3>What you'll do</h3><ul class=\"posting-requirements plain-list\"><ul><li>You will work in a cross-functional team with product managers, designers, and other engineers, where you will have a genuine impact on the team’s decisions</li><li>You will work with industry-standard tools and service providers delivering a world-class advertising product </li><li>Keep code maintainable through extensive documentation and automated tests</li><li>Learn about multiple modern technologies ranging from user-facing software to backend infrastructure</li></ul></ul></div></div>,\n",
       " <div class=\"section page-centered\"><div><h3>Who you are</h3><ul class=\"posting-requirements plain-list\"><ul><li>A current undergraduate or graduate student pursuing a degree in Computer Science or Software Engineering, and planning to graduate in 2024</li><li>You currently have valid work authorization to work in the country in which this role is based that will extend from June to August 2023</li><li>You know how to design and build distributed systems in Java</li><li>You are experienced with React/JavaScript/CSS/HTML coding and testing</li><li>You have an understanding of system design, data structures, and algorithms</li><li>You care about quality and know what it takes to ship high-quality code</li></ul></ul></div></div>,\n",
       " <div class=\"section page-centered\"><div><h3>Where you'll be</h3><ul class=\"posting-requirements plain-list\"><ul><li>We are a distributed workforce enabling our band members to find a work mode that is best for them!</li><li>Where in the world? For this role, it can be within the <a class=\"postings-link\" href=\"https://spotifyjobs.com/work-by-region\">Americas</a> region in which we have a work location</li><li>For this role, you can choose to either work from home or from one of our office locations</li><li>Working hours? We operate within the Eastern Time Zone for collaboration</li></ul></ul></div></div>,\n",
       " <div class=\"section page-centered\" data-qa=\"closing-description\"><div><b>Our paid summer internships last for 10-13 weeks and start at the beginning of June. The last day to apply is February 16, 2023, at 11:59 PM ET. </b></div><div><br/></div><div>The United States hourly rate for this position is 33.00 USD (Undergraduate First Year &amp; Sophomores), 42.00 USD (Undergraduate Juniors &amp; Seniors), 49.00 USD (Masters) &amp; 58.00 USD (PhD) per hour plus a one-time intern stipend of 2,253 USD. This position is overtime eligible. These rates may be modified in the future.</div><div><br/></div><div>Spotify is an equal opportunity employer. You are welcome at Spotify for who you are, no matter where you come from, what you look like, or what’s playing in your headphones. Our platform is for everyone, and so is our workplace. The more voices we have represented and amplified in our business, the more we will all thrive, contribute, and be forward-thinking! So bring us your personal experience, your perspectives, and your background. It’s in our differences that we will find the power to keep revolutionizing the way the world listens.</div><div><br/></div><div>Spotify transformed music listening forever when we launched in 2008. Our mission is to unlock the potential of human creativity by giving a million creative artists the opportunity to live off their art and billions of fans the chance to enjoy and be passionate about these creators. Everything we do is driven by our love for music and podcasting. Today, we are the world’s most popular audio streaming subscription service.</div></div>]"
      ]
     },
     "execution_count": 33,
     "metadata": {},
     "output_type": "execute_result"
    }
   ],
   "source": [
    "job_description"
   ]
  },
  {
   "cell_type": "code",
   "execution_count": null,
   "id": "26a4eaad-2956-41fa-bc43-4f341f26dcb0",
   "metadata": {},
   "outputs": [],
   "source": []
  }
 ],
 "metadata": {
  "kernelspec": {
   "display_name": "Python 3 (ipykernel)",
   "language": "python",
   "name": "python3"
  },
  "language_info": {
   "codemirror_mode": {
    "name": "ipython",
    "version": 3
   },
   "file_extension": ".py",
   "mimetype": "text/x-python",
   "name": "python",
   "nbconvert_exporter": "python",
   "pygments_lexer": "ipython3",
   "version": "3.9.12"
  }
 },
 "nbformat": 4,
 "nbformat_minor": 5
}
