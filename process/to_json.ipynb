{
 "cells": [
  {
   "cell_type": "code",
   "execution_count": 7,
   "id": "54d1a00b-c7fe-47ad-96e6-5e0076e57a07",
   "metadata": {},
   "outputs": [],
   "source": [
    "import pandas as pd\n",
    "import numpy as np\n",
    "import json"
   ]
  },
  {
   "cell_type": "code",
   "execution_count": 3,
   "id": "e2bea9e9-543f-4b82-bb12-8a8e5fe23b12",
   "metadata": {},
   "outputs": [],
   "source": [
    "df = pd.read_csv('../scrap/greenhouse/data/jobs_list.csv')"
   ]
  },
  {
   "cell_type": "code",
   "execution_count": 5,
   "id": "e3bdd51f-7091-4310-ba37-10cda046411b",
   "metadata": {},
   "outputs": [
    {
     "data": {
      "text/html": [
       "<div>\n",
       "<style scoped>\n",
       "    .dataframe tbody tr th:only-of-type {\n",
       "        vertical-align: middle;\n",
       "    }\n",
       "\n",
       "    .dataframe tbody tr th {\n",
       "        vertical-align: top;\n",
       "    }\n",
       "\n",
       "    .dataframe thead th {\n",
       "        text-align: right;\n",
       "    }\n",
       "</style>\n",
       "<table border=\"1\" class=\"dataframe\">\n",
       "  <thead>\n",
       "    <tr style=\"text-align: right;\">\n",
       "      <th></th>\n",
       "      <th>company</th>\n",
       "      <th>job_name</th>\n",
       "      <th>location</th>\n",
       "      <th>job_url</th>\n",
       "      <th>job_description</th>\n",
       "    </tr>\n",
       "  </thead>\n",
       "  <tbody>\n",
       "    <tr>\n",
       "      <th>0</th>\n",
       "      <td>github</td>\n",
       "      <td>IT Product Manager</td>\n",
       "      <td>Remote - US West Coast</td>\n",
       "      <td>/github/jobs/4147448</td>\n",
       "      <td>&lt;div class=\"\" id=\"content\"&gt;\\n&lt;p&gt;&lt;span style=\"f...</td>\n",
       "    </tr>\n",
       "    <tr>\n",
       "      <th>1</th>\n",
       "      <td>github</td>\n",
       "      <td>IT Software Engineer</td>\n",
       "      <td>Remote - US West Coast</td>\n",
       "      <td>/github/jobs/4016529</td>\n",
       "      <td>&lt;div class=\"\" id=\"content\"&gt;\\n&lt;p&gt;&lt;span style=\"f...</td>\n",
       "    </tr>\n",
       "    <tr>\n",
       "      <th>2</th>\n",
       "      <td>github</td>\n",
       "      <td>Design Director – Education, Communities, and ...</td>\n",
       "      <td>Remote - US</td>\n",
       "      <td>/github/jobs/3992208</td>\n",
       "      <td>&lt;div class=\"\" id=\"content\"&gt;\\n&lt;p&gt;GitHub is chan...</td>\n",
       "    </tr>\n",
       "    <tr>\n",
       "      <th>3</th>\n",
       "      <td>github</td>\n",
       "      <td>Design Director – Education, Communities, and ...</td>\n",
       "      <td>Remote - Canada</td>\n",
       "      <td>/github/jobs/3992209</td>\n",
       "      <td>&lt;div class=\"\" id=\"content\"&gt;\\n&lt;p&gt;GitHub is chan...</td>\n",
       "    </tr>\n",
       "    <tr>\n",
       "      <th>4</th>\n",
       "      <td>github</td>\n",
       "      <td>Design Director – Education, Communities, and ...</td>\n",
       "      <td>Remote - US East</td>\n",
       "      <td>/github/jobs/4177775</td>\n",
       "      <td>&lt;div class=\"\" id=\"content\"&gt;\\n&lt;p&gt;GitHub is chan...</td>\n",
       "    </tr>\n",
       "  </tbody>\n",
       "</table>\n",
       "</div>"
      ],
      "text/plain": [
       "  company                                           job_name  \\\n",
       "0  github                                 IT Product Manager   \n",
       "1  github                               IT Software Engineer   \n",
       "2  github  Design Director – Education, Communities, and ...   \n",
       "3  github  Design Director – Education, Communities, and ...   \n",
       "4  github  Design Director – Education, Communities, and ...   \n",
       "\n",
       "                 location               job_url  \\\n",
       "0  Remote - US West Coast  /github/jobs/4147448   \n",
       "1  Remote - US West Coast  /github/jobs/4016529   \n",
       "2             Remote - US  /github/jobs/3992208   \n",
       "3         Remote - Canada  /github/jobs/3992209   \n",
       "4        Remote - US East  /github/jobs/4177775   \n",
       "\n",
       "                                     job_description  \n",
       "0  <div class=\"\" id=\"content\">\\n<p><span style=\"f...  \n",
       "1  <div class=\"\" id=\"content\">\\n<p><span style=\"f...  \n",
       "2  <div class=\"\" id=\"content\">\\n<p>GitHub is chan...  \n",
       "3  <div class=\"\" id=\"content\">\\n<p>GitHub is chan...  \n",
       "4  <div class=\"\" id=\"content\">\\n<p>GitHub is chan...  "
      ]
     },
     "execution_count": 5,
     "metadata": {},
     "output_type": "execute_result"
    }
   ],
   "source": [
    "df.head()"
   ]
  },
  {
   "cell_type": "code",
   "execution_count": 9,
   "id": "4b4ede9b-1beb-4c31-88b2-8730045b7dc3",
   "metadata": {},
   "outputs": [],
   "source": [
    "with open('json_data.json', 'w') as outfile:\n",
    "    outfile.write(df.to_json(orient='records'))"
   ]
  },
  {
   "cell_type": "code",
   "execution_count": null,
   "id": "267a00da-decc-4a46-bc41-9a924f3d667d",
   "metadata": {},
   "outputs": [],
   "source": []
  }
 ],
 "metadata": {
  "kernelspec": {
   "display_name": "Python 3 (ipykernel)",
   "language": "python",
   "name": "python3"
  },
  "language_info": {
   "codemirror_mode": {
    "name": "ipython",
    "version": 3
   },
   "file_extension": ".py",
   "mimetype": "text/x-python",
   "name": "python",
   "nbconvert_exporter": "python",
   "pygments_lexer": "ipython3",
   "version": "3.9.12"
  }
 },
 "nbformat": 4,
 "nbformat_minor": 5
}
