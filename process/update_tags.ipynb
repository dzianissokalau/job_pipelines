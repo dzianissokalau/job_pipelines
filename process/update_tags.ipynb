{
 "cells": [
  {
   "cell_type": "code",
   "execution_count": 1,
   "id": "c0182a5a-bc1a-4871-882a-3ea0bb7443ca",
   "metadata": {},
   "outputs": [],
   "source": [
    "import tags\n",
    "import re\n",
    "\n",
    "import requests\n",
    "from bs4 import BeautifulSoup\n",
    "import pandas as pd\n",
    "import time\n",
    "import datetime\n",
    "import os\n",
    "\n",
    "import firebase_admin\n",
    "from firebase_admin import credentials\n",
    "from firebase_admin import firestore"
   ]
  },
  {
   "cell_type": "code",
   "execution_count": 2,
   "id": "22fa1824-f560-4b0f-b506-1ed98222fb64",
   "metadata": {},
   "outputs": [],
   "source": [
    "#initializing firestore\n",
    "cert_path = '/Users/dzianis/github/findremote-firebase-adminsdk-p9cw7-633a39d4a9.json'\n",
    "cred = credentials.Certificate(cert_path)\n",
    "firebase_admin.initialize_app(cred)\n",
    "\n",
    "# connect to db\n",
    "db = firestore.client()\n",
    "\n",
    "\n",
    "\n",
    "\n",
    "# get data from FireStore\n",
    "listings_db = db.collection(u'listings').stream()\n",
    "\n",
    "listings = dict()\n",
    "for listing in listings_db:\n",
    "    listings[listing.id] = listing.to_dict()"
   ]
  },
  {
   "cell_type": "code",
   "execution_count": 3,
   "id": "c847623d-864a-4ddc-bce3-f7b1e2d8f56d",
   "metadata": {},
   "outputs": [],
   "source": [
    "tags_list = tags.get_tags()"
   ]
  },
  {
   "cell_type": "code",
   "execution_count": 4,
   "id": "521ad4bd-7b4f-4b51-978a-cc6b806ef0c6",
   "metadata": {},
   "outputs": [
    {
     "data": {
      "text/plain": [
       "['javascript', 'github']"
      ]
     },
     "execution_count": 4,
     "metadata": {},
     "output_type": "execute_result"
    }
   ],
   "source": [
    "tags.get_list(tags_list, listings['1238688']['job_description'])"
   ]
  },
  {
   "cell_type": "code",
   "execution_count": 5,
   "id": "a5bd1ad9-f188-40fe-9404-efe3a1f8dfb0",
   "metadata": {},
   "outputs": [
    {
     "data": {
      "text/plain": [
       "dict_keys(['ds', 'datetime', 'img_url', 'swe', 'tags_short', 'company_name', 'location_simp', 'status', 'tags', 'pm', 'em', 'de', 'job_name', 'location', 'job_id', 'mr', 'job_description', 'job_url', 'dis'])"
      ]
     },
     "execution_count": 5,
     "metadata": {},
     "output_type": "execute_result"
    }
   ],
   "source": [
    "listings['1238688'].keys()"
   ]
  },
  {
   "cell_type": "code",
   "execution_count": 6,
   "id": "04e2afa1-e491-47e2-973a-3ba7653d03e6",
   "metadata": {},
   "outputs": [],
   "source": [
    "for job_id in listings.keys():\n",
    "    listings[job_id]['tags'] = tags.get_list(tags_list, listings[job_id]['job_description'])\n",
    "    listings[job_id]['tags_short'] = listings[job_id]['tags'][:5]"
   ]
  },
  {
   "cell_type": "code",
   "execution_count": 15,
   "id": "b98d2bcd-0a2c-4fdd-bd1a-c1531fa53d18",
   "metadata": {},
   "outputs": [
    {
     "data": {
      "text/plain": [
       "['python',\n",
       " 'java',\n",
       " 'php',\n",
       " 'sql',\n",
       " 'wordpress',\n",
       " 'aws',\n",
       " 'scala',\n",
       " 'spark',\n",
       " 'testing',\n",
       " 's3',\n",
       " 'hadoop',\n",
       " 'gcp',\n",
       " 'kafka']"
      ]
     },
     "execution_count": 15,
     "metadata": {},
     "output_type": "execute_result"
    }
   ],
   "source": [
    "listings[list(listings.keys())[15]]['tags']"
   ]
  },
  {
   "cell_type": "code",
   "execution_count": 17,
   "id": "4ee2094a-c5fd-4665-a210-622cf58c08e5",
   "metadata": {},
   "outputs": [
    {
     "data": {
      "text/plain": [
       "['python', 'java', 'php', 'sql', 'wordpress']"
      ]
     },
     "execution_count": 17,
     "metadata": {},
     "output_type": "execute_result"
    }
   ],
   "source": [
    "listings[list(listings.keys())[15]]['tags_short']"
   ]
  },
  {
   "cell_type": "code",
   "execution_count": 18,
   "id": "745c141e-b46e-45ea-a1a2-7bab11e3b7c4",
   "metadata": {},
   "outputs": [],
   "source": [
    "for job_id in listings.keys():\n",
    "    doc_ref = db.collection(u'listings').document(job_id)\n",
    "    doc_ref.set(listings[job_id])"
   ]
  },
  {
   "cell_type": "code",
   "execution_count": null,
   "id": "e0b358f2-85f7-41b1-b093-5d0e65494136",
   "metadata": {},
   "outputs": [],
   "source": []
  }
 ],
 "metadata": {
  "kernelspec": {
   "display_name": "Python 3 (ipykernel)",
   "language": "python",
   "name": "python3"
  },
  "language_info": {
   "codemirror_mode": {
    "name": "ipython",
    "version": 3
   },
   "file_extension": ".py",
   "mimetype": "text/x-python",
   "name": "python",
   "nbconvert_exporter": "python",
   "pygments_lexer": "ipython3",
   "version": "3.9.12"
  }
 },
 "nbformat": 4,
 "nbformat_minor": 5
}
